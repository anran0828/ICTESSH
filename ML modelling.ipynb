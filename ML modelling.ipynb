{
 "cells": [
  {
   "cell_type": "code",
   "execution_count": 9,
   "metadata": {
    "collapsed": true
   },
   "outputs": [],
   "source": [
    "import pandas as pd\n",
    "import numpy as np\n",
    "\n",
    "from sklearn.feature_extraction.text import TfidfVectorizer\n",
    "from sklearn.naive_bayes import MultinomialNB\n",
    "from sklearn.model_selection import train_test_split\n",
    "from sklearn.naive_bayes import GaussianNB\n",
    "\n",
    "from textblob import TextBlob\n",
    "\n",
    "import matplotlib.pyplot as plt\n",
    "\n",
    "from nltk.corpus import stopwords\n",
    "\n",
    "from textblob.classifiers import NaiveBayesClassifier"
   ]
  },
  {
   "cell_type": "markdown",
   "metadata": {},
   "source": [
    "## Gaussian Naive Bayes with TextBlob "
   ]
  },
  {
   "cell_type": "code",
   "execution_count": 2,
   "metadata": {
    "collapsed": true
   },
   "outputs": [],
   "source": [
    "namelist=['2021Apr.csv', '2020Oct.csv','2020Apr.csv','2019Oct.csv','2019Apr.csv','2018Oct.csv','2018Apr.csv','2017Oct.csv','2017Apr.csv']\n",
    "df=pd.DataFrame(columns=['retweet_count', 'favorite_count','full_text','created_at'])\n",
    "\n",
    "\n",
    "for i in namelist:\n",
    "    dfi=pd.read_csv(i)\n",
    "    dffi=dfi[['retweet_count', 'favorite_count','full_text','created_at']] # drop 'retweeted' as it's suspiciously all false\n",
    "    df=pd.concat([df, dffi])"
   ]
  },
  {
   "cell_type": "code",
   "execution_count": 8,
   "metadata": {},
   "outputs": [
    {
     "data": {
      "text/html": [
       "<div>\n",
       "<style scoped>\n",
       "    .dataframe tbody tr th:only-of-type {\n",
       "        vertical-align: middle;\n",
       "    }\n",
       "\n",
       "    .dataframe tbody tr th {\n",
       "        vertical-align: top;\n",
       "    }\n",
       "\n",
       "    .dataframe thead th {\n",
       "        text-align: right;\n",
       "    }\n",
       "</style>\n",
       "<table border=\"1\" class=\"dataframe\">\n",
       "  <thead>\n",
       "    <tr style=\"text-align: right;\">\n",
       "      <th></th>\n",
       "      <th>retweet_count</th>\n",
       "      <th>favorite_count</th>\n",
       "      <th>full_text</th>\n",
       "      <th>created_at</th>\n",
       "    </tr>\n",
       "  </thead>\n",
       "  <tbody>\n",
       "    <tr>\n",
       "      <th>0</th>\n",
       "      <td>0</td>\n",
       "      <td>0</td>\n",
       "      <td>Pregnant women should be offered Pfizer or Mod...</td>\n",
       "      <td>2021-04-20 23:07:25</td>\n",
       "    </tr>\n",
       "    <tr>\n",
       "      <th>1</th>\n",
       "      <td>17</td>\n",
       "      <td>0</td>\n",
       "      <td>RT @VernersViews: Covid Vaccines are 100% safe...</td>\n",
       "      <td>2021-04-20 23:02:16</td>\n",
       "    </tr>\n",
       "    <tr>\n",
       "      <th>2</th>\n",
       "      <td>85</td>\n",
       "      <td>0</td>\n",
       "      <td>RT @hanimomo: According to Observer: https://t...</td>\n",
       "      <td>2021-04-20 23:03:16</td>\n",
       "    </tr>\n",
       "    <tr>\n",
       "      <th>3</th>\n",
       "      <td>11</td>\n",
       "      <td>0</td>\n",
       "      <td>RT @BordersAgainst: University of Oxford who h...</td>\n",
       "      <td>2021-04-20 23:04:47</td>\n",
       "    </tr>\n",
       "    <tr>\n",
       "      <th>4</th>\n",
       "      <td>42</td>\n",
       "      <td>0</td>\n",
       "      <td>RT @CarryOnMargate: Woman had three brain surg...</td>\n",
       "      <td>2021-04-20 23:04:25</td>\n",
       "    </tr>\n",
       "    <tr>\n",
       "      <th>...</th>\n",
       "      <td>...</td>\n",
       "      <td>...</td>\n",
       "      <td>...</td>\n",
       "      <td>...</td>\n",
       "    </tr>\n",
       "    <tr>\n",
       "      <th>1195</th>\n",
       "      <td>1</td>\n",
       "      <td>0</td>\n",
       "      <td>RT @kasstanb: #Vegan #bodies &amp;amp; #vaccine to...</td>\n",
       "      <td>2017-04-08 05:56:03</td>\n",
       "    </tr>\n",
       "    <tr>\n",
       "      <th>1196</th>\n",
       "      <td>91</td>\n",
       "      <td>0</td>\n",
       "      <td>RT @alanmcn1: come and join my new lab @IMIBir...</td>\n",
       "      <td>2017-04-08 09:37:09</td>\n",
       "    </tr>\n",
       "    <tr>\n",
       "      <th>1197</th>\n",
       "      <td>91</td>\n",
       "      <td>0</td>\n",
       "      <td>RT @alanmcn1: come and join my new lab @IMIBir...</td>\n",
       "      <td>2017-04-07 20:15:14</td>\n",
       "    </tr>\n",
       "    <tr>\n",
       "      <th>1198</th>\n",
       "      <td>46</td>\n",
       "      <td>0</td>\n",
       "      <td>RT @MailOnline: Scientists are working on an a...</td>\n",
       "      <td>2017-04-07 20:19:05</td>\n",
       "    </tr>\n",
       "    <tr>\n",
       "      <th>1199</th>\n",
       "      <td>0</td>\n",
       "      <td>0</td>\n",
       "      <td>California cientists are working on an acne va...</td>\n",
       "      <td>2017-04-08 05:21:14</td>\n",
       "    </tr>\n",
       "  </tbody>\n",
       "</table>\n",
       "<p>10800 rows × 4 columns</p>\n",
       "</div>"
      ],
      "text/plain": [
       "     retweet_count favorite_count  \\\n",
       "0                0              0   \n",
       "1               17              0   \n",
       "2               85              0   \n",
       "3               11              0   \n",
       "4               42              0   \n",
       "...            ...            ...   \n",
       "1195             1              0   \n",
       "1196            91              0   \n",
       "1197            91              0   \n",
       "1198            46              0   \n",
       "1199             0              0   \n",
       "\n",
       "                                              full_text           created_at  \n",
       "0     Pregnant women should be offered Pfizer or Mod...  2021-04-20 23:07:25  \n",
       "1     RT @VernersViews: Covid Vaccines are 100% safe...  2021-04-20 23:02:16  \n",
       "2     RT @hanimomo: According to Observer: https://t...  2021-04-20 23:03:16  \n",
       "3     RT @BordersAgainst: University of Oxford who h...  2021-04-20 23:04:47  \n",
       "4     RT @CarryOnMargate: Woman had three brain surg...  2021-04-20 23:04:25  \n",
       "...                                                 ...                  ...  \n",
       "1195  RT @kasstanb: #Vegan #bodies &amp; #vaccine to...  2017-04-08 05:56:03  \n",
       "1196  RT @alanmcn1: come and join my new lab @IMIBir...  2017-04-08 09:37:09  \n",
       "1197  RT @alanmcn1: come and join my new lab @IMIBir...  2017-04-07 20:15:14  \n",
       "1198  RT @MailOnline: Scientists are working on an a...  2017-04-07 20:19:05  \n",
       "1199  California cientists are working on an acne va...  2017-04-08 05:21:14  \n",
       "\n",
       "[10800 rows x 4 columns]"
      ]
     },
     "execution_count": 8,
     "metadata": {},
     "output_type": "execute_result"
    }
   ],
   "source": [
    "df"
   ]
  },
  {
   "cell_type": "code",
   "execution_count": 26,
   "metadata": {
    "collapsed": true
   },
   "outputs": [],
   "source": [
    "di=df.copy()"
   ]
  },
  {
   "cell_type": "code",
   "execution_count": 27,
   "metadata": {
    "collapsed": true
   },
   "outputs": [],
   "source": [
    "di=di[['full_text','created_at']]"
   ]
  },
  {
   "cell_type": "code",
   "execution_count": 28,
   "metadata": {
    "collapsed": true
   },
   "outputs": [],
   "source": [
    "# clean tweets\n",
    "import preprocessor as p\n",
    "import re\n",
    "# this package remove Reserved words (RT, FAV),Emojis,Smileys\n",
    "# https://towardsdatascience.com/basic-tweet-preprocessing-in-python-efd8360d529e\n",
    "\n",
    "di.full_text=[p.clean(i) for i in di.full_text]\n",
    "\n",
    "# remove puncutations \n",
    "di.full_text = [re.sub(r'[^\\w\\s]', '', i) for i in di.full_text]\n",
    "\n",
    "# remove colon \n",
    "di.full_text=[re.sub(':', '',i) for i in di.full_text]\n",
    "\n",
    "# lowercase all sentences\n",
    "di.full_text=[x.lower() for x in di.full_text]"
   ]
  },
  {
   "cell_type": "code",
   "execution_count": 29,
   "metadata": {},
   "outputs": [
    {
     "data": {
      "text/html": [
       "<div>\n",
       "<style scoped>\n",
       "    .dataframe tbody tr th:only-of-type {\n",
       "        vertical-align: middle;\n",
       "    }\n",
       "\n",
       "    .dataframe tbody tr th {\n",
       "        vertical-align: top;\n",
       "    }\n",
       "\n",
       "    .dataframe thead th {\n",
       "        text-align: right;\n",
       "    }\n",
       "</style>\n",
       "<table border=\"1\" class=\"dataframe\">\n",
       "  <thead>\n",
       "    <tr style=\"text-align: right;\">\n",
       "      <th></th>\n",
       "      <th>full_text</th>\n",
       "      <th>created_at</th>\n",
       "    </tr>\n",
       "  </thead>\n",
       "  <tbody>\n",
       "    <tr>\n",
       "      <th>0</th>\n",
       "      <td>pregnant women should be offered pfizer or mod...</td>\n",
       "      <td>2021-04-20 23:07:25</td>\n",
       "    </tr>\n",
       "    <tr>\n",
       "      <th>1</th>\n",
       "      <td>covid vaccines are  safe for pregnant women t...</td>\n",
       "      <td>2021-04-20 23:02:16</td>\n",
       "    </tr>\n",
       "    <tr>\n",
       "      <th>2</th>\n",
       "      <td>according to observer</td>\n",
       "      <td>2021-04-20 23:03:16</td>\n",
       "    </tr>\n",
       "    <tr>\n",
       "      <th>3</th>\n",
       "      <td>university of oxford who have developed a vac...</td>\n",
       "      <td>2021-04-20 23:04:47</td>\n",
       "    </tr>\n",
       "    <tr>\n",
       "      <th>4</th>\n",
       "      <td>woman had three brain surgeries due to blood ...</td>\n",
       "      <td>2021-04-20 23:04:25</td>\n",
       "    </tr>\n",
       "    <tr>\n",
       "      <th>...</th>\n",
       "      <td>...</td>\n",
       "      <td>...</td>\n",
       "    </tr>\n",
       "    <tr>\n",
       "      <th>1195</th>\n",
       "      <td>amp toxins court orders mother to immunise</td>\n",
       "      <td>2017-04-08 05:56:03</td>\n",
       "    </tr>\n",
       "    <tr>\n",
       "      <th>1196</th>\n",
       "      <td>come and join my new lab  phd studentship on ...</td>\n",
       "      <td>2017-04-08 09:37:09</td>\n",
       "    </tr>\n",
       "    <tr>\n",
       "      <th>1197</th>\n",
       "      <td>come and join my new lab  phd studentship on ...</td>\n",
       "      <td>2017-04-07 20:15:14</td>\n",
       "    </tr>\n",
       "    <tr>\n",
       "      <th>1198</th>\n",
       "      <td>scientists are working on an acne vaccine tha...</td>\n",
       "      <td>2017-04-07 20:19:05</td>\n",
       "    </tr>\n",
       "    <tr>\n",
       "      <th>1199</th>\n",
       "      <td>california cientists are working on an acne va...</td>\n",
       "      <td>2017-04-08 05:21:14</td>\n",
       "    </tr>\n",
       "  </tbody>\n",
       "</table>\n",
       "<p>10800 rows × 2 columns</p>\n",
       "</div>"
      ],
      "text/plain": [
       "                                              full_text           created_at\n",
       "0     pregnant women should be offered pfizer or mod...  2021-04-20 23:07:25\n",
       "1      covid vaccines are  safe for pregnant women t...  2021-04-20 23:02:16\n",
       "2                                 according to observer  2021-04-20 23:03:16\n",
       "3      university of oxford who have developed a vac...  2021-04-20 23:04:47\n",
       "4      woman had three brain surgeries due to blood ...  2021-04-20 23:04:25\n",
       "...                                                 ...                  ...\n",
       "1195        amp toxins court orders mother to immunise   2017-04-08 05:56:03\n",
       "1196   come and join my new lab  phd studentship on ...  2017-04-08 09:37:09\n",
       "1197   come and join my new lab  phd studentship on ...  2017-04-07 20:15:14\n",
       "1198   scientists are working on an acne vaccine tha...  2017-04-07 20:19:05\n",
       "1199  california cientists are working on an acne va...  2017-04-08 05:21:14\n",
       "\n",
       "[10800 rows x 2 columns]"
      ]
     },
     "execution_count": 29,
     "metadata": {},
     "output_type": "execute_result"
    }
   ],
   "source": [
    "di"
   ]
  },
  {
   "cell_type": "code",
   "execution_count": 30,
   "metadata": {
    "collapsed": true
   },
   "outputs": [],
   "source": [
    "# extract month to build classification label \n",
    "di.created_at=[i[:7] for i in df.created_at]"
   ]
  },
  {
   "cell_type": "code",
   "execution_count": 31,
   "metadata": {
    "collapsed": true
   },
   "outputs": [],
   "source": [
    "# remove stopwords\n",
    "\n",
    "dd=[]\n",
    "for item in di['full_text']:    \n",
    "    string = ' '.join([w for w in item.split() if w not in stopwords.words('english')])\n",
    "    dd.append(string)\n",
    "\n",
    "di['full_text']=dd"
   ]
  },
  {
   "cell_type": "code",
   "execution_count": 37,
   "metadata": {
    "collapsed": true
   },
   "outputs": [],
   "source": [
    "# removing stopwords takes long time. So better to export the results to later use it directly\n",
    "di.to_csv('datasets without stopwords.csv')\n"
   ]
  },
  {
   "cell_type": "code",
   "execution_count": null,
   "metadata": {
    "collapsed": true
   },
   "outputs": [],
   "source": []
  },
  {
   "cell_type": "code",
   "execution_count": 2,
   "metadata": {
    "collapsed": true
   },
   "outputs": [],
   "source": [
    "di=pd.read_csv('datasets without stopwords.csv')"
   ]
  },
  {
   "cell_type": "code",
   "execution_count": 3,
   "metadata": {
    "collapsed": true
   },
   "outputs": [],
   "source": [
    "# make all tweet string\n",
    "di['full_text']=[str(i) for i in di.full_text]"
   ]
  },
  {
   "cell_type": "code",
   "execution_count": 4,
   "metadata": {
    "collapsed": true
   },
   "outputs": [],
   "source": [
    "# POS\n",
    "from nltk import word_tokenize, pos_tag\n",
    "from nltk.corpus import wordnet\n",
    "from nltk.stem import WordNetLemmatizer\n",
    "\n",
    "# 获取单词的词性\n",
    "def get_wordnet_pos(tag):\n",
    "    if tag.startswith('J'):\n",
    "        return wordnet.ADJ\n",
    "    elif tag.startswith('V'):\n",
    "        return wordnet.VERB\n",
    "    elif tag.startswith('N'):\n",
    "        return wordnet.NOUN\n",
    "    elif tag.startswith('R'):\n",
    "        return wordnet.ADV\n",
    "    else:\n",
    "        return None\n",
    "\n",
    "# sentence = 'football is a family of team sports that involve, to varying degrees, kicking a ball to score a goal.'\n",
    "# tokens = word_tokenize(sentence)  # 分词\n",
    "# tagged_sent = pos_tag(tokens)     # 获取单词词性\n"
   ]
  },
  {
   "cell_type": "code",
   "execution_count": 5,
   "metadata": {
    "collapsed": true
   },
   "outputs": [],
   "source": [
    "# lemmatise\n",
    "wnl = WordNetLemmatizer()\n",
    "newlist=[]\n",
    "for sentence in di.full_text:\n",
    "    tokens = word_tokenize(sentence)  # tokenisation\n",
    "    tagged_sent = pos_tag(tokens)     # get POS \n",
    "    \n",
    "    lemmas_sent = []\n",
    "    for tag in tagged_sent:\n",
    "        wordnet_pos = get_wordnet_pos(tag[1]) or wordnet.NOUN # assign a POS or assign noun\n",
    "        lemmas_sent.append(wnl.lemmatize(tag[0], pos=wordnet_pos))\n",
    "    temp=' '.join(lemmas_sent)\n",
    "    newlist.append(temp)"
   ]
  },
  {
   "cell_type": "code",
   "execution_count": 47,
   "metadata": {
    "collapsed": true
   },
   "outputs": [],
   "source": [
    "di.full_text=newlist\n",
    "di=di[['full_text', 'created_at']]\n"
   ]
  },
  {
   "cell_type": "code",
   "execution_count": 49,
   "metadata": {
    "collapsed": true
   },
   "outputs": [],
   "source": [
    "di.to_csv('cleaned dataset.csv')"
   ]
  },
  {
   "cell_type": "code",
   "execution_count": null,
   "metadata": {
    "collapsed": true
   },
   "outputs": [],
   "source": []
  },
  {
   "cell_type": "code",
   "execution_count": 16,
   "metadata": {
    "collapsed": true
   },
   "outputs": [],
   "source": [
    "di=pd.read_csv('cleaned dataset.csv')\n",
    "di=di[['full_text', 'created_at']]\n",
    "di.full_text=[str(i) for i in di.full_text]"
   ]
  },
  {
   "cell_type": "code",
   "execution_count": 17,
   "metadata": {
    "collapsed": true
   },
   "outputs": [],
   "source": [
    "# create dataset 1 which just has 3 time period. (split train-test and see performance) \n",
    "da=di.copy()\n",
    "da=da[da.created_at.isin(['2021-04', '2020-10', '2020-04'])]\n",
    "\n",
    "# create dataset 2 which just has 6 time period.\n",
    "db=di.copy()\n",
    "db=db[db.created_at.isin(['2021-04', '2020-10', '2020-04', '2019-10', '2019-04', '2018-10'])]\n",
    "\n",
    "# create dataset 3 which just has 9 time period.\n",
    "dc=di.copy()\n",
    "\n",
    "# both NB and RNN will be tested in this way. "
   ]
  },
  {
   "cell_type": "code",
   "execution_count": 8,
   "metadata": {},
   "outputs": [
    {
     "data": {
      "text/plain": [
       "array(['2021-04', '2020-10', '2020-04', '2019-10', '2019-04', '2018-10',\n",
       "       '2018-04', '2017-10', '2017-04'], dtype=object)"
      ]
     },
     "execution_count": 8,
     "metadata": {},
     "output_type": "execute_result"
    }
   ],
   "source": [
    "di.created_at.unique()"
   ]
  },
  {
   "cell_type": "code",
   "execution_count": 18,
   "metadata": {},
   "outputs": [
    {
     "data": {
      "text/html": [
       "<div>\n",
       "<style scoped>\n",
       "    .dataframe tbody tr th:only-of-type {\n",
       "        vertical-align: middle;\n",
       "    }\n",
       "\n",
       "    .dataframe tbody tr th {\n",
       "        vertical-align: top;\n",
       "    }\n",
       "\n",
       "    .dataframe thead th {\n",
       "        text-align: right;\n",
       "    }\n",
       "</style>\n",
       "<table border=\"1\" class=\"dataframe\">\n",
       "  <thead>\n",
       "    <tr style=\"text-align: right;\">\n",
       "      <th></th>\n",
       "      <th>full_text</th>\n",
       "      <th>created_at</th>\n",
       "    </tr>\n",
       "  </thead>\n",
       "  <tbody>\n",
       "    <tr>\n",
       "      <th>0</th>\n",
       "      <td>pregnant woman offer pfizer moderna vaccine sa...</td>\n",
       "      <td>2021-04</td>\n",
       "    </tr>\n",
       "    <tr>\n",
       "      <th>1</th>\n",
       "      <td>covid vaccine safe pregnant woman lieoriginal ...</td>\n",
       "      <td>2021-04</td>\n",
       "    </tr>\n",
       "    <tr>\n",
       "      <th>2</th>\n",
       "      <td>accord observer</td>\n",
       "      <td>2021-04</td>\n",
       "    </tr>\n",
       "    <tr>\n",
       "      <th>3</th>\n",
       "      <td>university oxford develop vaccine alongside as...</td>\n",
       "      <td>2021-04</td>\n",
       "    </tr>\n",
       "    <tr>\n",
       "      <th>4</th>\n",
       "      <td>woman three brain surgery due blood clot jampj...</td>\n",
       "      <td>2021-04</td>\n",
       "    </tr>\n",
       "    <tr>\n",
       "      <th>...</th>\n",
       "      <td>...</td>\n",
       "      <td>...</td>\n",
       "    </tr>\n",
       "    <tr>\n",
       "      <th>3595</th>\n",
       "      <td>team also successfully produce synthetic sarsc...</td>\n",
       "      <td>2020-04</td>\n",
       "    </tr>\n",
       "    <tr>\n",
       "      <th>3596</th>\n",
       "      <td>djokovic refuse vaccine marvellous rest supers...</td>\n",
       "      <td>2020-04</td>\n",
       "    </tr>\n",
       "    <tr>\n",
       "      <th>3597</th>\n",
       "      <td>cpi join national taskforce identify develop v...</td>\n",
       "      <td>2020-04</td>\n",
       "    </tr>\n",
       "    <tr>\n",
       "      <th>3598</th>\n",
       "      <td>wish share optimism paul sadly year watch anti...</td>\n",
       "      <td>2020-04</td>\n",
       "    </tr>\n",
       "    <tr>\n",
       "      <th>3599</th>\n",
       "      <td>wow dare rodney</td>\n",
       "      <td>2020-04</td>\n",
       "    </tr>\n",
       "  </tbody>\n",
       "</table>\n",
       "<p>3600 rows × 2 columns</p>\n",
       "</div>"
      ],
      "text/plain": [
       "                                              full_text created_at\n",
       "0     pregnant woman offer pfizer moderna vaccine sa...    2021-04\n",
       "1     covid vaccine safe pregnant woman lieoriginal ...    2021-04\n",
       "2                                       accord observer    2021-04\n",
       "3     university oxford develop vaccine alongside as...    2021-04\n",
       "4     woman three brain surgery due blood clot jampj...    2021-04\n",
       "...                                                 ...        ...\n",
       "3595  team also successfully produce synthetic sarsc...    2020-04\n",
       "3596  djokovic refuse vaccine marvellous rest supers...    2020-04\n",
       "3597  cpi join national taskforce identify develop v...    2020-04\n",
       "3598  wish share optimism paul sadly year watch anti...    2020-04\n",
       "3599                                    wow dare rodney    2020-04\n",
       "\n",
       "[3600 rows x 2 columns]"
      ]
     },
     "execution_count": 18,
     "metadata": {},
     "output_type": "execute_result"
    }
   ],
   "source": [
    "da"
   ]
  },
  {
   "cell_type": "code",
   "execution_count": 19,
   "metadata": {},
   "outputs": [
    {
     "name": "stdout",
     "output_type": "stream",
     "text": [
      "training is  2880  values long\n",
      "testing is  720  values long\n"
     ]
    },
    {
     "data": {
      "text/plain": [
       "0.9013888888888889"
      ]
     },
     "execution_count": 19,
     "metadata": {},
     "output_type": "execute_result"
    }
   ],
   "source": [
    "# da\n",
    "# separate into training and test sections, check length of each\n",
    "\n",
    "jtad_train_df, jtad_test_df = train_test_split(da, test_size=0.2, random_state=1)\n",
    "\n",
    "print(\"training is \", len(jtad_train_df), \" values long\")\n",
    "print(\"testing is \", len(jtad_test_df), \" values long\")\n",
    "\n",
    "#convert the data frames to lists as textblob.classifier does not take data frames\n",
    "jtad_train_list = jtad_train_df.values.tolist()\n",
    "jtad_test_list = jtad_test_df.values.tolist()\n",
    "\n",
    "# Train a textblob classifier on the training set\n",
    "cl = NaiveBayesClassifier(jtad_train_list)\n",
    "\n",
    "# check accuracy on test set\n",
    "cl.accuracy(jtad_test_list)"
   ]
  },
  {
   "cell_type": "code",
   "execution_count": 20,
   "metadata": {},
   "outputs": [
    {
     "name": "stdout",
     "output_type": "stream",
     "text": [
      "training is  5760  values long\n",
      "testing is  1440  values long\n"
     ]
    },
    {
     "data": {
      "text/plain": [
       "0.8513888888888889"
      ]
     },
     "execution_count": 20,
     "metadata": {},
     "output_type": "execute_result"
    }
   ],
   "source": [
    "# db\n",
    "# separate into training and test sections, check length of each\n",
    "\n",
    "jtad_train_df, jtad_test_df = train_test_split(db, test_size=0.2, random_state=1)\n",
    "\n",
    "print(\"training is \", len(jtad_train_df), \" values long\")\n",
    "print(\"testing is \", len(jtad_test_df), \" values long\")\n",
    "\n",
    "#convert the data frames to lists as textblob.classifier does not take data frames\n",
    "jtad_train_list = jtad_train_df.values.tolist()\n",
    "jtad_test_list = jtad_test_df.values.tolist()\n",
    "\n",
    "# Train a textblob classifier on the training set\n",
    "cl = NaiveBayesClassifier(jtad_train_list)\n",
    "\n",
    "# check accuracy on test set\n",
    "cl.accuracy(jtad_test_list)"
   ]
  },
  {
   "cell_type": "code",
   "execution_count": 21,
   "metadata": {},
   "outputs": [
    {
     "name": "stdout",
     "output_type": "stream",
     "text": [
      "training is  8640  values long\n",
      "testing is  2160  values long\n"
     ]
    },
    {
     "data": {
      "text/plain": [
       "0.7921296296296296"
      ]
     },
     "execution_count": 21,
     "metadata": {},
     "output_type": "execute_result"
    }
   ],
   "source": [
    "# dc\n",
    "# separate into training and test sections, check length of each\n",
    "\n",
    "jtad_train_df, jtad_test_df = train_test_split(dc, test_size=0.2, random_state=1)\n",
    "\n",
    "print(\"training is \", len(jtad_train_df), \" values long\")\n",
    "print(\"testing is \", len(jtad_test_df), \" values long\")\n",
    "\n",
    "#convert the data frames to lists as textblob.classifier does not take data frames\n",
    "jtad_train_list = jtad_train_df.values.tolist()\n",
    "jtad_test_list = jtad_test_df.values.tolist()\n",
    "\n",
    "# Train a textblob classifier on the training set\n",
    "cl = NaiveBayesClassifier(jtad_train_list)\n",
    "\n",
    "# check accuracy on test set\n",
    "cl.accuracy(jtad_test_list)"
   ]
  },
  {
   "cell_type": "code",
   "execution_count": null,
   "metadata": {
    "collapsed": true
   },
   "outputs": [],
   "source": []
  },
  {
   "cell_type": "code",
   "execution_count": 26,
   "metadata": {},
   "outputs": [
    {
     "name": "stdout",
     "output_type": "stream",
     "text": [
      "training is  2880  values long\n",
      "testing is  720  values long\n",
      "accuracy for sorted train set is 0.9013888888888889\n"
     ]
    }
   ],
   "source": [
    "# Order the train data\n",
    "# da\n",
    "# separate into training and test sections, check length of each\n",
    "\n",
    "jtad_train_df, jtad_test_df = train_test_split(da, test_size=0.2, random_state=1)\n",
    "jtad_train_df.sort_values(by=['created_at'])\n",
    "\n",
    "print(\"training is \", len(jtad_train_df), \" values long\")\n",
    "print(\"testing is \", len(jtad_test_df), \" values long\")\n",
    "\n",
    "\n",
    "#convert the data frames to lists as textblob.classifier does not take data frames\n",
    "jtad_train_list = jtad_train_df.values.tolist()\n",
    "jtad_test_list = jtad_test_df.values.tolist()\n",
    "\n",
    "# Train a textblob classifier on the training set\n",
    "cl = NaiveBayesClassifier(jtad_train_list)\n",
    "\n",
    "# check accuracy on test set\n",
    "print('accuracy for sorted train set is', cl.accuracy(jtad_test_list))\n"
   ]
  },
  {
   "cell_type": "code",
   "execution_count": 27,
   "metadata": {},
   "outputs": [
    {
     "name": "stdout",
     "output_type": "stream",
     "text": [
      "training is  5760  values long\n",
      "testing is  1440  values long\n",
      "accuracy for sorted train set is 0.8513888888888889\n"
     ]
    }
   ],
   "source": [
    "# Order the train data\n",
    "# db\n",
    "# separate into training and test sections, check length of each\n",
    "\n",
    "jtad_train_df, jtad_test_df = train_test_split(db, test_size=0.2, random_state=1)\n",
    "jtad_train_df.sort_values(by=['created_at'])\n",
    "\n",
    "print(\"training is \", len(jtad_train_df), \" values long\")\n",
    "print(\"testing is \", len(jtad_test_df), \" values long\")\n",
    "\n",
    "\n",
    "#convert the data frames to lists as textblob.classifier does not take data frames\n",
    "jtad_train_list = jtad_train_df.values.tolist()\n",
    "jtad_test_list = jtad_test_df.values.tolist()\n",
    "\n",
    "# Train a textblob classifier on the training set\n",
    "cl = NaiveBayesClassifier(jtad_train_list)\n",
    "\n",
    "# check accuracy on test set\n",
    "print('accuracy for sorted train set is', cl.accuracy(jtad_test_list))\n"
   ]
  },
  {
   "cell_type": "code",
   "execution_count": 28,
   "metadata": {},
   "outputs": [
    {
     "name": "stdout",
     "output_type": "stream",
     "text": [
      "training is  8640  values long\n",
      "testing is  2160  values long\n",
      "accuracy for sorted train set is 0.7921296296296296\n"
     ]
    }
   ],
   "source": [
    "# Order the train data\n",
    "# dc\n",
    "# separate into training and test sections, check length of each\n",
    "\n",
    "jtad_train_df, jtad_test_df = train_test_split(dc, test_size=0.2, random_state=1)\n",
    "jtad_train_df.sort_values(by=['created_at'])\n",
    "\n",
    "print(\"training is \", len(jtad_train_df), \" values long\")\n",
    "print(\"testing is \", len(jtad_test_df), \" values long\")\n",
    "\n",
    "\n",
    "#convert the data frames to lists as textblob.classifier does not take data frames\n",
    "jtad_train_list = jtad_train_df.values.tolist()\n",
    "jtad_test_list = jtad_test_df.values.tolist()\n",
    "\n",
    "# Train a textblob classifier on the training set\n",
    "cl = NaiveBayesClassifier(jtad_train_list)\n",
    "\n",
    "# check accuracy on test set\n",
    "print('accuracy for sorted train set is', cl.accuracy(jtad_test_list))\n"
   ]
  },
  {
   "cell_type": "code",
   "execution_count": 30,
   "metadata": {
    "collapsed": true
   },
   "outputs": [],
   "source": [
    "# now ordered and unordered training have same results.\n",
    "# is this the correct way to put in ordered data? -Anran"
   ]
  },
  {
   "cell_type": "code",
   "execution_count": null,
   "metadata": {
    "collapsed": true
   },
   "outputs": [],
   "source": []
  },
  {
   "cell_type": "code",
   "execution_count": null,
   "metadata": {
    "collapsed": true
   },
   "outputs": [],
   "source": []
  },
  {
   "cell_type": "code",
   "execution_count": null,
   "metadata": {
    "collapsed": true
   },
   "outputs": [],
   "source": []
  },
  {
   "cell_type": "code",
   "execution_count": null,
   "metadata": {
    "collapsed": true
   },
   "outputs": [],
   "source": []
  },
  {
   "cell_type": "code",
   "execution_count": null,
   "metadata": {},
   "outputs": [],
   "source": []
  },
  {
   "cell_type": "code",
   "execution_count": null,
   "metadata": {},
   "outputs": [],
   "source": []
  },
  {
   "cell_type": "code",
   "execution_count": null,
   "metadata": {
    "collapsed": true
   },
   "outputs": [],
   "source": []
  },
  {
   "cell_type": "code",
   "execution_count": null,
   "metadata": {
    "collapsed": true
   },
   "outputs": [],
   "source": []
  },
  {
   "cell_type": "code",
   "execution_count": null,
   "metadata": {
    "collapsed": true
   },
   "outputs": [],
   "source": []
  },
  {
   "cell_type": "code",
   "execution_count": null,
   "metadata": {
    "collapsed": true
   },
   "outputs": [],
   "source": []
  },
  {
   "cell_type": "code",
   "execution_count": null,
   "metadata": {
    "collapsed": true
   },
   "outputs": [],
   "source": [
    "# put 3 data sets into NBC and RNN\n",
    "# get accuracy, put into table. 6 values"
   ]
  },
  {
   "cell_type": "code",
   "execution_count": null,
   "metadata": {
    "collapsed": true
   },
   "outputs": [],
   "source": [
    "# order the train set and test with NBC. 3 values"
   ]
  },
  {
   "cell_type": "code",
   "execution_count": null,
   "metadata": {
    "collapsed": true
   },
   "outputs": [],
   "source": [
    "# plot word cloud for each period"
   ]
  },
  {
   "cell_type": "code",
   "execution_count": null,
   "metadata": {
    "collapsed": true
   },
   "outputs": [],
   "source": [
    "# any further edition for RNN?"
   ]
  },
  {
   "cell_type": "code",
   "execution_count": null,
   "metadata": {
    "collapsed": true
   },
   "outputs": [],
   "source": []
  },
  {
   "cell_type": "code",
   "execution_count": 50,
   "metadata": {},
   "outputs": [
    {
     "name": "stdout",
     "output_type": "stream",
     "text": [
      "training is  8640  values long\n",
      "testing is  2160  values long\n"
     ]
    }
   ],
   "source": [
    "# separate into training and test sections, check length of each\n",
    "\n",
    "jtad_train_df, jtad_test_df = train_test_split(di, test_size=0.2, random_state=1)\n",
    "\n",
    "print(\"training is \", len(jtad_train_df), \" values long\")\n",
    "print(\"testing is \", len(jtad_test_df), \" values long\")"
   ]
  },
  {
   "cell_type": "code",
   "execution_count": 23,
   "metadata": {
    "collapsed": true
   },
   "outputs": [],
   "source": [
    "#convert the data frames to lists as textblob.classifier does not take data frames\n",
    "\n",
    "jtad_train_list = jtad_train_df.values.tolist()\n",
    "jtad_test_list = jtad_test_df.values.tolist()"
   ]
  },
  {
   "cell_type": "code",
   "execution_count": 24,
   "metadata": {
    "collapsed": true
   },
   "outputs": [],
   "source": [
    "# Train a textblob classifier on the training set\n",
    "cl = NaiveBayesClassifier(jtad_train_list)"
   ]
  },
  {
   "cell_type": "code",
   "execution_count": 25,
   "metadata": {},
   "outputs": [
    {
     "data": {
      "text/plain": [
       "0.8009259259259259"
      ]
     },
     "execution_count": 25,
     "metadata": {},
     "output_type": "execute_result"
    }
   ],
   "source": [
    "# check accuracy on test set\n",
    "\n",
    "cl.accuracy(jtad_test_list)"
   ]
  },
  {
   "cell_type": "code",
   "execution_count": null,
   "metadata": {
    "collapsed": true
   },
   "outputs": [],
   "source": []
  },
  {
   "cell_type": "code",
   "execution_count": null,
   "metadata": {
    "collapsed": true
   },
   "outputs": [],
   "source": []
  },
  {
   "cell_type": "code",
   "execution_count": null,
   "metadata": {
    "collapsed": true
   },
   "outputs": [],
   "source": []
  },
  {
   "cell_type": "code",
   "execution_count": null,
   "metadata": {
    "collapsed": true
   },
   "outputs": [],
   "source": []
  },
  {
   "cell_type": "code",
   "execution_count": null,
   "metadata": {
    "collapsed": true
   },
   "outputs": [],
   "source": []
  },
  {
   "cell_type": "code",
   "execution_count": null,
   "metadata": {
    "collapsed": true
   },
   "outputs": [],
   "source": []
  },
  {
   "cell_type": "code",
   "execution_count": 74,
   "metadata": {
    "collapsed": true
   },
   "outputs": [],
   "source": [
    "df1=df.copy()"
   ]
  },
  {
   "cell_type": "code",
   "execution_count": 75,
   "metadata": {
    "collapsed": true
   },
   "outputs": [],
   "source": [
    "df1['polarity']=[TextBlob(i).sentiment.polarity for i in df1.full_text] \n",
    "df1['subjectivity']=[TextBlob(i).sentiment.subjectivity for i in df1.full_text] "
   ]
  },
  {
   "cell_type": "code",
   "execution_count": 76,
   "metadata": {
    "collapsed": true
   },
   "outputs": [],
   "source": [
    "df1=df1.drop(['full_text'], axis=1)"
   ]
  },
  {
   "cell_type": "code",
   "execution_count": 77,
   "metadata": {},
   "outputs": [
    {
     "data": {
      "text/html": [
       "<div>\n",
       "<style scoped>\n",
       "    .dataframe tbody tr th:only-of-type {\n",
       "        vertical-align: middle;\n",
       "    }\n",
       "\n",
       "    .dataframe tbody tr th {\n",
       "        vertical-align: top;\n",
       "    }\n",
       "\n",
       "    .dataframe thead th {\n",
       "        text-align: right;\n",
       "    }\n",
       "</style>\n",
       "<table border=\"1\" class=\"dataframe\">\n",
       "  <thead>\n",
       "    <tr style=\"text-align: right;\">\n",
       "      <th></th>\n",
       "      <th>retweet_count</th>\n",
       "      <th>favorite_count</th>\n",
       "      <th>created_at</th>\n",
       "      <th>polarity</th>\n",
       "      <th>subjectivity</th>\n",
       "    </tr>\n",
       "  </thead>\n",
       "  <tbody>\n",
       "    <tr>\n",
       "      <th>0</th>\n",
       "      <td>0</td>\n",
       "      <td>0</td>\n",
       "      <td>2021-04</td>\n",
       "      <td>0.333333</td>\n",
       "      <td>0.500000</td>\n",
       "    </tr>\n",
       "    <tr>\n",
       "      <th>1</th>\n",
       "      <td>17</td>\n",
       "      <td>0</td>\n",
       "      <td>2021-04</td>\n",
       "      <td>0.416667</td>\n",
       "      <td>0.500000</td>\n",
       "    </tr>\n",
       "    <tr>\n",
       "      <th>2</th>\n",
       "      <td>85</td>\n",
       "      <td>0</td>\n",
       "      <td>2021-04</td>\n",
       "      <td>0.000000</td>\n",
       "      <td>0.000000</td>\n",
       "    </tr>\n",
       "    <tr>\n",
       "      <th>3</th>\n",
       "      <td>11</td>\n",
       "      <td>0</td>\n",
       "      <td>2021-04</td>\n",
       "      <td>0.050000</td>\n",
       "      <td>0.650000</td>\n",
       "    </tr>\n",
       "    <tr>\n",
       "      <th>4</th>\n",
       "      <td>42</td>\n",
       "      <td>0</td>\n",
       "      <td>2021-04</td>\n",
       "      <td>-0.125000</td>\n",
       "      <td>0.375000</td>\n",
       "    </tr>\n",
       "    <tr>\n",
       "      <th>...</th>\n",
       "      <td>...</td>\n",
       "      <td>...</td>\n",
       "      <td>...</td>\n",
       "      <td>...</td>\n",
       "      <td>...</td>\n",
       "    </tr>\n",
       "    <tr>\n",
       "      <th>1195</th>\n",
       "      <td>1</td>\n",
       "      <td>0</td>\n",
       "      <td>2017-04</td>\n",
       "      <td>0.000000</td>\n",
       "      <td>0.000000</td>\n",
       "    </tr>\n",
       "    <tr>\n",
       "      <th>1196</th>\n",
       "      <td>91</td>\n",
       "      <td>0</td>\n",
       "      <td>2017-04</td>\n",
       "      <td>0.136364</td>\n",
       "      <td>0.454545</td>\n",
       "    </tr>\n",
       "    <tr>\n",
       "      <th>1197</th>\n",
       "      <td>91</td>\n",
       "      <td>0</td>\n",
       "      <td>2017-04</td>\n",
       "      <td>0.136364</td>\n",
       "      <td>0.454545</td>\n",
       "    </tr>\n",
       "    <tr>\n",
       "      <th>1198</th>\n",
       "      <td>46</td>\n",
       "      <td>0</td>\n",
       "      <td>2017-04</td>\n",
       "      <td>0.000000</td>\n",
       "      <td>0.000000</td>\n",
       "    </tr>\n",
       "    <tr>\n",
       "      <th>1199</th>\n",
       "      <td>0</td>\n",
       "      <td>0</td>\n",
       "      <td>2017-04</td>\n",
       "      <td>0.000000</td>\n",
       "      <td>0.000000</td>\n",
       "    </tr>\n",
       "  </tbody>\n",
       "</table>\n",
       "<p>10800 rows × 5 columns</p>\n",
       "</div>"
      ],
      "text/plain": [
       "     retweet_count favorite_count created_at  polarity  subjectivity\n",
       "0                0              0    2021-04  0.333333      0.500000\n",
       "1               17              0    2021-04  0.416667      0.500000\n",
       "2               85              0    2021-04  0.000000      0.000000\n",
       "3               11              0    2021-04  0.050000      0.650000\n",
       "4               42              0    2021-04 -0.125000      0.375000\n",
       "...            ...            ...        ...       ...           ...\n",
       "1195             1              0    2017-04  0.000000      0.000000\n",
       "1196            91              0    2017-04  0.136364      0.454545\n",
       "1197            91              0    2017-04  0.136364      0.454545\n",
       "1198            46              0    2017-04  0.000000      0.000000\n",
       "1199             0              0    2017-04  0.000000      0.000000\n",
       "\n",
       "[10800 rows x 5 columns]"
      ]
     },
     "execution_count": 77,
     "metadata": {},
     "output_type": "execute_result"
    }
   ],
   "source": [
    "df1"
   ]
  },
  {
   "cell_type": "code",
   "execution_count": 78,
   "metadata": {},
   "outputs": [
    {
     "data": {
      "text/plain": [
       "GaussianNB(priors=None, var_smoothing=1e-09)"
      ]
     },
     "execution_count": 78,
     "metadata": {},
     "output_type": "execute_result"
    }
   ],
   "source": [
    "X = df1.drop(columns=['created_at'], axis=1)\n",
    "y = df1['created_at']\n",
    "X_train, X_test, y_train, y_test = train_test_split(X, y, test_size=0.2, random_state=1)\n",
    "model = GaussianNB()\n",
    "model.fit(X_train, y_train)"
   ]
  },
  {
   "cell_type": "code",
   "execution_count": 79,
   "metadata": {},
   "outputs": [
    {
     "name": "stdout",
     "output_type": "stream",
     "text": [
      "Number of mislabeled points out of a total 2160 points : 1799\n"
     ]
    }
   ],
   "source": [
    "y_pred = model.predict(X_test)\n",
    "print(\"Number of mislabeled points out of a total %d points : %d\"    % (X_test.shape[0], (y_test != y_pred).sum()))"
   ]
  },
  {
   "cell_type": "code",
   "execution_count": null,
   "metadata": {
    "collapsed": true
   },
   "outputs": [],
   "source": []
  },
  {
   "cell_type": "code",
   "execution_count": null,
   "metadata": {
    "collapsed": true
   },
   "outputs": [],
   "source": [
    "# below is before text cleaning...surprisingly more accurate"
   ]
  },
  {
   "cell_type": "code",
   "execution_count": 30,
   "metadata": {},
   "outputs": [
    {
     "data": {
      "text/plain": [
       "GaussianNB(priors=None, var_smoothing=1e-09)"
      ]
     },
     "execution_count": 30,
     "metadata": {},
     "output_type": "execute_result"
    }
   ],
   "source": [
    "X = df2.drop(columns=['created_at'], axis=1)\n",
    "y = df2['created_at']\n",
    "X_train, X_test, y_train, y_test = train_test_split(X, y, test_size=0.2, random_state=1)\n",
    "model = GaussianNB()\n",
    "model.fit(X_train, y_train)"
   ]
  },
  {
   "cell_type": "code",
   "execution_count": 32,
   "metadata": {},
   "outputs": [
    {
     "name": "stdout",
     "output_type": "stream",
     "text": [
      "Number of mislabeled points out of a total 2160 points : 1786\n"
     ]
    }
   ],
   "source": [
    "y_pred = model.predict(X_test)\n",
    "print(\"Number of mislabeled points out of a total %d points : %d\"    % (X_test.shape[0], (y_test != y_pred).sum()))"
   ]
  },
  {
   "cell_type": "code",
   "execution_count": null,
   "metadata": {
    "collapsed": true
   },
   "outputs": [],
   "source": []
  },
  {
   "cell_type": "markdown",
   "metadata": {},
   "source": [
    "## Multinomial Naive Bayes with Tfidf"
   ]
  },
  {
   "cell_type": "code",
   "execution_count": 80,
   "metadata": {
    "collapsed": true
   },
   "outputs": [],
   "source": [
    "df2=df.copy()"
   ]
  },
  {
   "cell_type": "code",
   "execution_count": null,
   "metadata": {
    "collapsed": true
   },
   "outputs": [],
   "source": []
  },
  {
   "cell_type": "code",
   "execution_count": 81,
   "metadata": {
    "collapsed": true
   },
   "outputs": [],
   "source": [
    "tfidf_vectorizer = TfidfVectorizer()\n",
    "df2['full_text'] = tfidf_vectorizer.fit_transform(df2['full_text']).toarray()"
   ]
  },
  {
   "cell_type": "code",
   "execution_count": 82,
   "metadata": {},
   "outputs": [
    {
     "data": {
      "text/plain": [
       "0.5592335247934099"
      ]
     },
     "execution_count": 82,
     "metadata": {},
     "output_type": "execute_result"
    }
   ],
   "source": [
    "df2['full_text'].sum()"
   ]
  },
  {
   "cell_type": "code",
   "execution_count": 93,
   "metadata": {},
   "outputs": [
    {
     "data": {
      "text/plain": [
       "MultinomialNB(alpha=1.0, class_prior=None, fit_prior=True)"
      ]
     },
     "execution_count": 93,
     "metadata": {},
     "output_type": "execute_result"
    }
   ],
   "source": [
    "X = df2.drop(columns=['created_at'], axis=1)\n",
    "y = df2['created_at']\n",
    "X_train, X_test, y_train, y_test = train_test_split(X, y, test_size=0.2, random_state=1)\n",
    "model = MultinomialNB()\n",
    "model.fit(X_train, y_train)"
   ]
  },
  {
   "cell_type": "code",
   "execution_count": 95,
   "metadata": {},
   "outputs": [
    {
     "name": "stdout",
     "output_type": "stream",
     "text": [
      "Number of mislabeled points out of a total 2160 points : 1940\n"
     ]
    }
   ],
   "source": [
    "y_pred = model.predict(X_test)\n",
    "print(\"Number of mislabeled points out of a total %d points : %d\"    % (X_test.shape[0], (y_test != y_pred).sum()))"
   ]
  },
  {
   "cell_type": "code",
   "execution_count": null,
   "metadata": {
    "collapsed": true
   },
   "outputs": [],
   "source": []
  },
  {
   "cell_type": "code",
   "execution_count": null,
   "metadata": {
    "collapsed": true
   },
   "outputs": [],
   "source": []
  },
  {
   "cell_type": "code",
   "execution_count": null,
   "metadata": {
    "collapsed": true
   },
   "outputs": [],
   "source": []
  },
  {
   "cell_type": "code",
   "execution_count": null,
   "metadata": {
    "collapsed": true
   },
   "outputs": [],
   "source": []
  },
  {
   "cell_type": "code",
   "execution_count": null,
   "metadata": {
    "collapsed": true
   },
   "outputs": [],
   "source": []
  },
  {
   "cell_type": "code",
   "execution_count": null,
   "metadata": {
    "collapsed": true
   },
   "outputs": [],
   "source": []
  },
  {
   "cell_type": "code",
   "execution_count": null,
   "metadata": {
    "collapsed": true
   },
   "outputs": [],
   "source": []
  }
 ],
 "metadata": {
  "kernelspec": {
   "display_name": "Python 3",
   "language": "python",
   "name": "python3"
  },
  "language_info": {
   "codemirror_mode": {
    "name": "ipython",
    "version": 3
   },
   "file_extension": ".py",
   "mimetype": "text/x-python",
   "name": "python",
   "nbconvert_exporter": "python",
   "pygments_lexer": "ipython3",
   "version": "3.6.2"
  }
 },
 "nbformat": 4,
 "nbformat_minor": 2
}
