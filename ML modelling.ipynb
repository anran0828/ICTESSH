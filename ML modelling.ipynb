{
 "cells": [
  {
   "cell_type": "code",
   "execution_count": 12,
   "metadata": {
    "collapsed": true
   },
   "outputs": [],
   "source": [
    "import pandas as pd\n",
    "import numpy as np\n",
    "\n",
    "from sklearn.feature_extraction.text import TfidfVectorizer\n",
    "from sklearn.naive_bayes import MultinomialNB\n",
    "from sklearn.model_selection import train_test_split\n",
    "from sklearn.naive_bayes import GaussianNB\n",
    "\n",
    "from textblob import TextBlob\n",
    "\n",
    "import matplotlib.pyplot as plt\n",
    "\n",
    "from nltk.corpus import stopwords\n",
    "\n",
    "from textblob.classifiers import NaiveBayesClassifier"
   ]
  },
  {
   "cell_type": "markdown",
   "metadata": {},
   "source": [
    "## Preprocessing"
   ]
  },
  {
   "cell_type": "code",
   "execution_count": 16,
   "metadata": {
    "collapsed": true
   },
   "outputs": [],
   "source": [
    "# import raw data  \n",
    "namelist=['2021Apr.csv', '2020Oct.csv','2020Apr.csv','2019Oct.csv','2019Apr.csv','2018Oct.csv','2018Apr.csv','2017Oct.csv','2017Apr.csv']\n",
    "\n",
    "df=pd.DataFrame(columns=['full_text','created_at'])\n",
    "\n",
    "for i in namelist:\n",
    "    dfi=pd.read_csv(i)\n",
    "    dffi=dfi[['full_text','created_at']]\n",
    "    df=pd.concat([df, dffi])"
   ]
  },
  {
   "cell_type": "code",
   "execution_count": 19,
   "metadata": {},
   "outputs": [
    {
     "data": {
      "text/html": [
       "<div>\n",
       "<style scoped>\n",
       "    .dataframe tbody tr th:only-of-type {\n",
       "        vertical-align: middle;\n",
       "    }\n",
       "\n",
       "    .dataframe tbody tr th {\n",
       "        vertical-align: top;\n",
       "    }\n",
       "\n",
       "    .dataframe thead th {\n",
       "        text-align: right;\n",
       "    }\n",
       "</style>\n",
       "<table border=\"1\" class=\"dataframe\">\n",
       "  <thead>\n",
       "    <tr style=\"text-align: right;\">\n",
       "      <th></th>\n",
       "      <th>full_text</th>\n",
       "      <th>created_at</th>\n",
       "    </tr>\n",
       "  </thead>\n",
       "  <tbody>\n",
       "    <tr>\n",
       "      <th>0</th>\n",
       "      <td>Pregnant women should be offered Pfizer or Mod...</td>\n",
       "      <td>2021-04-20 23:07:25</td>\n",
       "    </tr>\n",
       "    <tr>\n",
       "      <th>1</th>\n",
       "      <td>RT @VernersViews: Covid Vaccines are 100% safe...</td>\n",
       "      <td>2021-04-20 23:02:16</td>\n",
       "    </tr>\n",
       "    <tr>\n",
       "      <th>2</th>\n",
       "      <td>RT @hanimomo: According to Observer: https://t...</td>\n",
       "      <td>2021-04-20 23:03:16</td>\n",
       "    </tr>\n",
       "    <tr>\n",
       "      <th>3</th>\n",
       "      <td>RT @BordersAgainst: University of Oxford who h...</td>\n",
       "      <td>2021-04-20 23:04:47</td>\n",
       "    </tr>\n",
       "    <tr>\n",
       "      <th>4</th>\n",
       "      <td>RT @CarryOnMargate: Woman had three brain surg...</td>\n",
       "      <td>2021-04-20 23:04:25</td>\n",
       "    </tr>\n",
       "  </tbody>\n",
       "</table>\n",
       "</div>"
      ],
      "text/plain": [
       "                                           full_text           created_at\n",
       "0  Pregnant women should be offered Pfizer or Mod...  2021-04-20 23:07:25\n",
       "1  RT @VernersViews: Covid Vaccines are 100% safe...  2021-04-20 23:02:16\n",
       "2  RT @hanimomo: According to Observer: https://t...  2021-04-20 23:03:16\n",
       "3  RT @BordersAgainst: University of Oxford who h...  2021-04-20 23:04:47\n",
       "4  RT @CarryOnMargate: Woman had three brain surg...  2021-04-20 23:04:25"
      ]
     },
     "execution_count": 19,
     "metadata": {},
     "output_type": "execute_result"
    }
   ],
   "source": [
    "# inspect the merged data frame\n",
    "df.head()"
   ]
  },
  {
   "cell_type": "code",
   "execution_count": 26,
   "metadata": {
    "collapsed": true
   },
   "outputs": [],
   "source": [
    "# make a copy in case we make irreversible mistakes \n",
    "di=df.copy()"
   ]
  },
  {
   "cell_type": "code",
   "execution_count": 28,
   "metadata": {
    "collapsed": true
   },
   "outputs": [],
   "source": [
    "# clean tweets\n",
    "import preprocessor as p\n",
    "import re\n",
    "# this package remove reserved words (RT, FAV),Emojis,Smileys\n",
    "# https://towardsdatascience.com/basic-tweet-preprocessing-in-python-efd8360d529e\n",
    "\n",
    "# remove reserved words (RT, FAV),Emojis,Smileys\n",
    "di.full_text=[p.clean(i) for i in di.full_text]\n",
    "\n",
    "# remove puncutations \n",
    "di.full_text = [re.sub(r'[^\\w\\s]', '', i) for i in di.full_text]\n",
    "\n",
    "# remove colon \n",
    "di.full_text=[re.sub(':', '',i) for i in di.full_text]\n",
    "\n",
    "# lowercase all sentences\n",
    "di.full_text=[x.lower() for x in di.full_text]\n"
   ]
  },
  {
   "cell_type": "code",
   "execution_count": 30,
   "metadata": {
    "collapsed": true
   },
   "outputs": [],
   "source": [
    "# extract month to build classification label \n",
    "di.created_at=[i[:7] for i in df.created_at]"
   ]
  },
  {
   "cell_type": "code",
   "execution_count": 31,
   "metadata": {
    "collapsed": true
   },
   "outputs": [],
   "source": [
    "# remove stopwords\n",
    "\n",
    "dd=[]\n",
    "for item in di['full_text']:    \n",
    "    string = ' '.join([w for w in item.split() if w not in stopwords.words('english')])\n",
    "    dd.append(string)\n",
    "\n",
    "di['full_text']=dd"
   ]
  },
  {
   "cell_type": "code",
   "execution_count": 37,
   "metadata": {
    "collapsed": true
   },
   "outputs": [],
   "source": [
    "# optional\n",
    "# removing stopwords takes long time. So better to export the results to later use it directly\n",
    "di.to_csv('datasets without stopwords.csv')"
   ]
  },
  {
   "cell_type": "code",
   "execution_count": null,
   "metadata": {
    "collapsed": true
   },
   "outputs": [],
   "source": []
  },
  {
   "cell_type": "code",
   "execution_count": 2,
   "metadata": {
    "collapsed": true
   },
   "outputs": [],
   "source": [
    "# optional\n",
    "# import data\n",
    "di=pd.read_csv('datasets without stopwords.csv')"
   ]
  },
  {
   "cell_type": "code",
   "execution_count": 3,
   "metadata": {
    "collapsed": true
   },
   "outputs": [],
   "source": [
    "# make all tweet string\n",
    "di['full_text']=[str(i) for i in di.full_text]"
   ]
  },
  {
   "cell_type": "code",
   "execution_count": 4,
   "metadata": {
    "collapsed": true
   },
   "outputs": [],
   "source": [
    "# Applying lemmatisation which transforms each words to its basic form.  \n",
    "# POS(part of speech) tagging for lemmatisation\n",
    "from nltk import word_tokenize, pos_tag\n",
    "from nltk.corpus import wordnet\n",
    "from nltk.stem import WordNetLemmatizer\n",
    "\n",
    "# create function to adapt to POS tag in WordNet\n",
    "def get_wordnet_pos(tag):\n",
    "    if tag.startswith('J'):\n",
    "        return wordnet.ADJ\n",
    "    elif tag.startswith('V'):\n",
    "        return wordnet.VERB\n",
    "    elif tag.startswith('N'):\n",
    "        return wordnet.NOUN\n",
    "    elif tag.startswith('R'):\n",
    "        return wordnet.ADV\n",
    "    else:\n",
    "        return None\n",
    "\n"
   ]
  },
  {
   "cell_type": "code",
   "execution_count": 5,
   "metadata": {
    "collapsed": true
   },
   "outputs": [],
   "source": [
    "# lemmatise each tweet\n",
    "wnl = WordNetLemmatizer()\n",
    "newlist=[]\n",
    "for sentence in di.full_text:\n",
    "    tokens = word_tokenize(sentence)  # tokenisation\n",
    "    tagged_sent = pos_tag(tokens)     # get POS \n",
    "    \n",
    "    lemmas_sent = []\n",
    "    for tag in tagged_sent:\n",
    "        wordnet_pos = get_wordnet_pos(tag[1]) or wordnet.NOUN # assign a POS or assign noun\n",
    "        lemmas_sent.append(wnl.lemmatize(tag[0], pos=wordnet_pos))\n",
    "    temp=' '.join(lemmas_sent)\n",
    "    newlist.append(temp)"
   ]
  },
  {
   "cell_type": "code",
   "execution_count": 47,
   "metadata": {
    "collapsed": true
   },
   "outputs": [],
   "source": [
    "# replace the old text column\n",
    "di.full_text=newlist\n",
    "# drop unnecessary columns, e.g. extra index\n",
    "di=di[['full_text', 'created_at']]\n"
   ]
  },
  {
   "cell_type": "code",
   "execution_count": 47,
   "metadata": {
    "collapsed": true
   },
   "outputs": [],
   "source": [
    "# We inspect that 'amp' appears many times, which is a part of ampersand that didn't get cleanned thoroughly before\n",
    "# so an extra step: remove amp\n",
    "di.full_text=[i.replace(' amp ', ' ') for i in di.full_text]"
   ]
  },
  {
   "cell_type": "code",
   "execution_count": 48,
   "metadata": {
    "collapsed": true
   },
   "outputs": [],
   "source": [
    "# store the cleaned dataset \n",
    "di.to_csv('cleaned dataset.csv')"
   ]
  },
  {
   "cell_type": "code",
   "execution_count": null,
   "metadata": {
    "collapsed": true
   },
   "outputs": [],
   "source": []
  },
  {
   "cell_type": "markdown",
   "metadata": {},
   "source": [
    "## Gaussian Naive Bayes with TextBlob "
   ]
  },
  {
   "cell_type": "code",
   "execution_count": 20,
   "metadata": {},
   "outputs": [],
   "source": [
    "# import dataset\n",
    "di=pd.read_csv('cleaned dataset.csv')\n",
    "di=di[['full_text', 'created_at']]\n",
    "di.full_text=[str(i) for i in di.full_text]"
   ]
  },
  {
   "cell_type": "code",
   "execution_count": 4,
   "metadata": {
    "collapsed": true
   },
   "outputs": [],
   "source": [
    "# create dataset 1 which just has 3 time period. \n",
    "da=di.copy()\n",
    "da=da[da.created_at.isin(['2021-04', '2020-10', '2020-04'])]\n",
    "\n",
    "# create dataset 2 which just has 6 time period.\n",
    "db=di.copy()\n",
    "db=db[db.created_at.isin(['2021-04', '2020-10', '2020-04', '2019-10', '2019-04', '2018-10'])]\n",
    "\n",
    "# create dataset 3 which just has 9 time period.\n",
    "dc=di.copy()\n"
   ]
  },
  {
   "cell_type": "code",
   "execution_count": 5,
   "metadata": {},
   "outputs": [
    {
     "name": "stdout",
     "output_type": "stream",
     "text": [
      "training is  2880  values long\n",
      "testing is  720  values long\n"
     ]
    },
    {
     "data": {
      "text/plain": [
       "0.9027777777777778"
      ]
     },
     "execution_count": 5,
     "metadata": {},
     "output_type": "execute_result"
    }
   ],
   "source": [
    "# NBC model for dataset1 \n",
    "# separate into training and test sections, check length of each\n",
    "\n",
    "jtad_train_df, jtad_test_df = train_test_split(da, test_size=0.2, random_state=1)\n",
    "\n",
    "print(\"training is \", len(jtad_train_df), \" values long\")\n",
    "print(\"testing is \", len(jtad_test_df), \" values long\")\n",
    "\n",
    "#convert the data frames to lists as textblob.classifier does not take data frames\n",
    "jtad_train_list = jtad_train_df.values.tolist()\n",
    "jtad_test_list = jtad_test_df.values.tolist()\n",
    "\n",
    "# Train a textblob classifier on the training set\n",
    "cl = NaiveBayesClassifier(jtad_train_list)\n",
    "\n",
    "# check accuracy on test set\n",
    "cl.accuracy(jtad_test_list)"
   ]
  },
  {
   "cell_type": "code",
   "execution_count": 6,
   "metadata": {},
   "outputs": [
    {
     "name": "stdout",
     "output_type": "stream",
     "text": [
      "training is  5760  values long\n",
      "testing is  1440  values long\n"
     ]
    },
    {
     "data": {
      "text/plain": [
       "0.8444444444444444"
      ]
     },
     "execution_count": 6,
     "metadata": {},
     "output_type": "execute_result"
    }
   ],
   "source": [
    "# NBC model for dataset2\n",
    "# separate into training and test sections, check length of each\n",
    "\n",
    "jtad_train_df, jtad_test_df = train_test_split(db, test_size=0.2, random_state=1)\n",
    "\n",
    "print(\"training is \", len(jtad_train_df), \" values long\")\n",
    "print(\"testing is \", len(jtad_test_df), \" values long\")\n",
    "\n",
    "#convert the data frames to lists as textblob.classifier does not take data frames\n",
    "jtad_train_list = jtad_train_df.values.tolist()\n",
    "jtad_test_list = jtad_test_df.values.tolist()\n",
    "\n",
    "# Train a textblob classifier on the training set\n",
    "cl = NaiveBayesClassifier(jtad_train_list)\n",
    "\n",
    "# check accuracy on test set\n",
    "cl.accuracy(jtad_test_list)"
   ]
  },
  {
   "cell_type": "code",
   "execution_count": 7,
   "metadata": {},
   "outputs": [
    {
     "name": "stdout",
     "output_type": "stream",
     "text": [
      "training is  8640  values long\n",
      "testing is  2160  values long\n"
     ]
    },
    {
     "data": {
      "text/plain": [
       "0.7925925925925926"
      ]
     },
     "execution_count": 7,
     "metadata": {},
     "output_type": "execute_result"
    }
   ],
   "source": [
    "# NBC model for dataset3\n",
    "# separate into training and test sections, check length of each\n",
    "\n",
    "jtad_train_df, jtad_test_df = train_test_split(dc, test_size=0.2, random_state=1)\n",
    "\n",
    "print(\"training is \", len(jtad_train_df), \" values long\")\n",
    "print(\"testing is \", len(jtad_test_df), \" values long\")\n",
    "\n",
    "#convert the data frames to lists as textblob.classifier does not take data frames\n",
    "jtad_train_list = jtad_train_df.values.tolist()\n",
    "jtad_test_list = jtad_test_df.values.tolist()\n",
    "\n",
    "# Train a textblob classifier on the training set\n",
    "cl = NaiveBayesClassifier(jtad_train_list)\n",
    "\n",
    "# check accuracy on test set\n",
    "cl.accuracy(jtad_test_list)"
   ]
  },
  {
   "cell_type": "code",
   "execution_count": null,
   "metadata": {
    "collapsed": true
   },
   "outputs": [],
   "source": []
  },
  {
   "cell_type": "code",
   "execution_count": 26,
   "metadata": {},
   "outputs": [
    {
     "name": "stdout",
     "output_type": "stream",
     "text": [
      "training is  2880  values long\n",
      "testing is  720  values long\n",
      "accuracy for sorted train set is 0.9013888888888889\n"
     ]
    }
   ],
   "source": [
    "# Order the train data and repeat the process to explore whether order matters for NBC\n",
    "# NBC model for dataset1\n",
    "# separate into training and test sections, check length of each\n",
    "\n",
    "jtad_train_df, jtad_test_df = train_test_split(da, test_size=0.2, random_state=1)\n",
    "jtad_train_df.sort_values(by=['created_at'])\n",
    "\n",
    "print(\"training is \", len(jtad_train_df), \" values long\")\n",
    "print(\"testing is \", len(jtad_test_df), \" values long\")\n",
    "\n",
    "\n",
    "#convert the data frames to lists as textblob.classifier does not take data frames\n",
    "jtad_train_list = jtad_train_df.values.tolist()\n",
    "jtad_test_list = jtad_test_df.values.tolist()\n",
    "\n",
    "# Train a textblob classifier on the training set\n",
    "cl = NaiveBayesClassifier(jtad_train_list)\n",
    "\n",
    "# check accuracy on test set\n",
    "print('accuracy for sorted train set is', cl.accuracy(jtad_test_list))\n"
   ]
  },
  {
   "cell_type": "code",
   "execution_count": 27,
   "metadata": {},
   "outputs": [
    {
     "name": "stdout",
     "output_type": "stream",
     "text": [
      "training is  5760  values long\n",
      "testing is  1440  values long\n",
      "accuracy for sorted train set is 0.8513888888888889\n"
     ]
    }
   ],
   "source": [
    "# Order the train data and repeat the process to explore whether order matters for NBC\n",
    "# NBC model for dataset2\n",
    "# separate into training and test sections, check length of each\n",
    "\n",
    "jtad_train_df, jtad_test_df = train_test_split(db, test_size=0.2, random_state=1)\n",
    "jtad_train_df.sort_values(by=['created_at'])\n",
    "\n",
    "print(\"training is \", len(jtad_train_df), \" values long\")\n",
    "print(\"testing is \", len(jtad_test_df), \" values long\")\n",
    "\n",
    "\n",
    "#convert the data frames to lists as textblob.classifier does not take data frames\n",
    "jtad_train_list = jtad_train_df.values.tolist()\n",
    "jtad_test_list = jtad_test_df.values.tolist()\n",
    "\n",
    "# Train a textblob classifier on the training set\n",
    "cl = NaiveBayesClassifier(jtad_train_list)\n",
    "\n",
    "# check accuracy on test set\n",
    "print('accuracy for sorted train set is', cl.accuracy(jtad_test_list))\n"
   ]
  },
  {
   "cell_type": "code",
   "execution_count": 28,
   "metadata": {},
   "outputs": [
    {
     "name": "stdout",
     "output_type": "stream",
     "text": [
      "training is  8640  values long\n",
      "testing is  2160  values long\n",
      "accuracy for sorted train set is 0.7921296296296296\n"
     ]
    }
   ],
   "source": [
    "# Order the train data and repeat the process to explore whether order matters for NBC\n",
    "# NBC model for dataset3\n",
    "# separate into training and test sections, check length of each\n",
    "\n",
    "jtad_train_df, jtad_test_df = train_test_split(dc, test_size=0.2, random_state=1)\n",
    "jtad_train_df.sort_values(by=['created_at'])\n",
    "\n",
    "print(\"training is \", len(jtad_train_df), \" values long\")\n",
    "print(\"testing is \", len(jtad_test_df), \" values long\")\n",
    "\n",
    "\n",
    "#convert the data frames to lists as textblob.classifier does not take data frames\n",
    "jtad_train_list = jtad_train_df.values.tolist()\n",
    "jtad_test_list = jtad_test_df.values.tolist()\n",
    "\n",
    "# Train a textblob classifier on the training set\n",
    "cl = NaiveBayesClassifier(jtad_train_list)\n",
    "\n",
    "# check accuracy on test set\n",
    "print('accuracy for sorted train set is', cl.accuracy(jtad_test_list))\n"
   ]
  },
  {
   "cell_type": "code",
   "execution_count": 30,
   "metadata": {
    "collapsed": true
   },
   "outputs": [],
   "source": [
    "# now ordered and unordered training have same results.\n",
    "# is this the correct way to put in ordered data? -Anran"
   ]
  },
  {
   "cell_type": "code",
   "execution_count": null,
   "metadata": {},
   "outputs": [],
   "source": []
  },
  {
   "cell_type": "code",
   "execution_count": null,
   "metadata": {
    "collapsed": true
   },
   "outputs": [],
   "source": []
  },
  {
   "cell_type": "code",
   "execution_count": null,
   "metadata": {
    "collapsed": true
   },
   "outputs": [],
   "source": []
  },
  {
   "cell_type": "code",
   "execution_count": null,
   "metadata": {
    "collapsed": true
   },
   "outputs": [],
   "source": []
  },
  {
   "cell_type": "code",
   "execution_count": null,
   "metadata": {
    "collapsed": true
   },
   "outputs": [],
   "source": []
  },
  {
   "cell_type": "code",
   "execution_count": null,
   "metadata": {
    "collapsed": true
   },
   "outputs": [],
   "source": []
  },
  {
   "cell_type": "code",
   "execution_count": null,
   "metadata": {
    "collapsed": true
   },
   "outputs": [],
   "source": []
  },
  {
   "cell_type": "code",
   "execution_count": null,
   "metadata": {
    "collapsed": true
   },
   "outputs": [],
   "source": []
  },
  {
   "cell_type": "code",
   "execution_count": null,
   "metadata": {
    "collapsed": true
   },
   "outputs": [],
   "source": []
  },
  {
   "cell_type": "code",
   "execution_count": null,
   "metadata": {
    "collapsed": true
   },
   "outputs": [],
   "source": []
  },
  {
   "cell_type": "code",
   "execution_count": null,
   "metadata": {
    "collapsed": true
   },
   "outputs": [],
   "source": []
  },
  {
   "cell_type": "code",
   "execution_count": null,
   "metadata": {
    "collapsed": true
   },
   "outputs": [],
   "source": []
  },
  {
   "cell_type": "markdown",
   "metadata": {},
   "source": [
    "## Multinomial Naive Bayes with Tfidf"
   ]
  },
  {
   "cell_type": "code",
   "execution_count": 80,
   "metadata": {
    "collapsed": true
   },
   "outputs": [],
   "source": [
    "df2=df.copy()"
   ]
  },
  {
   "cell_type": "code",
   "execution_count": null,
   "metadata": {
    "collapsed": true
   },
   "outputs": [],
   "source": []
  },
  {
   "cell_type": "code",
   "execution_count": 81,
   "metadata": {
    "collapsed": true
   },
   "outputs": [],
   "source": [
    "tfidf_vectorizer = TfidfVectorizer()\n",
    "df2['full_text'] = tfidf_vectorizer.fit_transform(df2['full_text']).toarray()"
   ]
  },
  {
   "cell_type": "code",
   "execution_count": 82,
   "metadata": {},
   "outputs": [
    {
     "data": {
      "text/plain": [
       "0.5592335247934099"
      ]
     },
     "execution_count": 82,
     "metadata": {},
     "output_type": "execute_result"
    }
   ],
   "source": [
    "df2['full_text'].sum()"
   ]
  },
  {
   "cell_type": "code",
   "execution_count": 93,
   "metadata": {},
   "outputs": [
    {
     "data": {
      "text/plain": [
       "MultinomialNB(alpha=1.0, class_prior=None, fit_prior=True)"
      ]
     },
     "execution_count": 93,
     "metadata": {},
     "output_type": "execute_result"
    }
   ],
   "source": [
    "X = df2.drop(columns=['created_at'], axis=1)\n",
    "y = df2['created_at']\n",
    "X_train, X_test, y_train, y_test = train_test_split(X, y, test_size=0.2, random_state=1)\n",
    "model = MultinomialNB()\n",
    "model.fit(X_train, y_train)"
   ]
  },
  {
   "cell_type": "code",
   "execution_count": 95,
   "metadata": {},
   "outputs": [
    {
     "name": "stdout",
     "output_type": "stream",
     "text": [
      "Number of mislabeled points out of a total 2160 points : 1940\n"
     ]
    }
   ],
   "source": [
    "y_pred = model.predict(X_test)\n",
    "print(\"Number of mislabeled points out of a total %d points : %d\"    % (X_test.shape[0], (y_test != y_pred).sum()))"
   ]
  },
  {
   "cell_type": "code",
   "execution_count": null,
   "metadata": {
    "collapsed": true
   },
   "outputs": [],
   "source": []
  },
  {
   "cell_type": "code",
   "execution_count": null,
   "metadata": {
    "collapsed": true
   },
   "outputs": [],
   "source": []
  },
  {
   "cell_type": "code",
   "execution_count": null,
   "metadata": {
    "collapsed": true
   },
   "outputs": [],
   "source": []
  },
  {
   "cell_type": "code",
   "execution_count": null,
   "metadata": {
    "collapsed": true
   },
   "outputs": [],
   "source": []
  },
  {
   "cell_type": "code",
   "execution_count": null,
   "metadata": {
    "collapsed": true
   },
   "outputs": [],
   "source": []
  },
  {
   "cell_type": "code",
   "execution_count": null,
   "metadata": {
    "collapsed": true
   },
   "outputs": [],
   "source": []
  },
  {
   "cell_type": "code",
   "execution_count": null,
   "metadata": {
    "collapsed": true
   },
   "outputs": [],
   "source": []
  }
 ],
 "metadata": {
  "kernelspec": {
   "display_name": "Python 3",
   "language": "python",
   "name": "python3"
  },
  "language_info": {
   "codemirror_mode": {
    "name": "ipython",
    "version": 3
   },
   "file_extension": ".py",
   "mimetype": "text/x-python",
   "name": "python",
   "nbconvert_exporter": "python",
   "pygments_lexer": "ipython3",
   "version": "3.6.2"
  }
 },
 "nbformat": 4,
 "nbformat_minor": 2
}
